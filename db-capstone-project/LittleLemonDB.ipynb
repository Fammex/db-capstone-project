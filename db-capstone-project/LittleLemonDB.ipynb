{
 "cells": [
  {
   "cell_type": "code",
   "execution_count": 1,
   "id": "3868fc09-9d9d-4a55-b070-0db68449f37b",
   "metadata": {},
   "outputs": [],
   "source": [
    "import mysql.connector as connector "
   ]
  },
  {
   "cell_type": "code",
   "execution_count": 2,
   "id": "faaa0be1-7281-43f9-b193-7b4428804c63",
   "metadata": {},
   "outputs": [
    {
     "name": "stdout",
     "output_type": "stream",
     "text": [
      "connection with database successful!\n"
     ]
    }
   ],
   "source": [
    "connection = connector.connect(user='root',password='Fammex0203')\n",
    "if connection.is_connected:\n",
    "    print('connection with database successful!')\n",
    "else:\n",
    "    print('connection unsuccessful')"
   ]
  },
  {
   "cell_type": "code",
   "execution_count": 3,
   "id": "a635eff3-6e24-4147-a87b-f86cff049253",
   "metadata": {},
   "outputs": [],
   "source": [
    "cursor = connection.cursor()\n"
   ]
  },
  {
   "cell_type": "code",
   "execution_count": 4,
   "id": "fc2ac60a-f547-4550-8f3f-646eb05abf75",
   "metadata": {},
   "outputs": [
    {
     "name": "stdout",
     "output_type": "stream",
     "text": [
      "('bookings',)\n",
      "('customers',)\n",
      "('delivery',)\n",
      "('menu',)\n",
      "('orders',)\n",
      "('ordersview',)\n",
      "('staff',)\n"
     ]
    }
   ],
   "source": [
    "cursor.execute('USE littlelemondb')\n",
    "cursor.execute('SHOW TABLES')\n",
    "result = cursor.fetchall()\n",
    "for i in result:\n",
    "    print(i)"
   ]
  },
  {
   "cell_type": "code",
   "execution_count": 5,
   "id": "e6532f71-ae1e-4d36-b6a1-8649fd896926",
   "metadata": {},
   "outputs": [
    {
     "name": "stdout",
     "output_type": "stream",
     "text": [
      "('TotalCost', 'FullName', 'Email', 'ContactNumber')\n",
      "(Decimal('75.00'), 'Alice Johnson', 'alicej@example.com', '5551234567')\n"
     ]
    }
   ],
   "source": [
    "cursor.execute('''SELECT Orders.TotalCost, Customers.FullName, Customers.Email, Customers.ContactNumber FROM Orders JOIN Bookings ON Orders.BookingID = Bookings.BookingID \n",
    "JOIN Customers ON Bookings.CustomerID = Customers.CustomerID WHERE Orders.TotalCost > 60;''')\n",
    "result = cursor.fetchall()\n",
    "col = cursor.column_names\n",
    "print(col)\n",
    "for i in result:\n",
    "    print(i)"
   ]
  },
  {
   "cell_type": "code",
   "execution_count": 6,
   "id": "975dc9dd-73f6-4f93-a2d5-c5ec9d36f05e",
   "metadata": {},
   "outputs": [],
   "source": [
    "cursor.close()\n",
    "connection.close()"
   ]
  },
  {
   "cell_type": "code",
   "execution_count": null,
   "id": "2c005f20-c763-4f33-88bc-9e2057c72b80",
   "metadata": {},
   "outputs": [],
   "source": []
  }
 ],
 "metadata": {
  "kernelspec": {
   "display_name": "Python 3 (ipykernel)",
   "language": "python",
   "name": "python3"
  },
  "language_info": {
   "codemirror_mode": {
    "name": "ipython",
    "version": 3
   },
   "file_extension": ".py",
   "mimetype": "text/x-python",
   "name": "python",
   "nbconvert_exporter": "python",
   "pygments_lexer": "ipython3",
   "version": "3.12.7"
  }
 },
 "nbformat": 4,
 "nbformat_minor": 5
}
